{
 "cells": [
  {
   "cell_type": "code",
   "execution_count": 25,
   "metadata": {},
   "outputs": [],
   "source": [
    "#use basic imports first in lines of code\n",
    "import json\n",
    "import os\n",
    "\n",
    "#calls on the library in which  you are trying to find the right stats or data\n",
    "from nba_api.stats.endpoints import playercareerstats\n",
    "\n",
    "#calls upon sc30 with player id and all his regular season stats\n",
    "player = playercareerstats.PlayerCareerStats(player_id='201939')\n",
    "x = player.career_totals_regular_season.get_json()\n",
    "\n",
    "#load data into a python object\n",
    "json_data = json.loads(x)\n",
    "\n",
    "#This finds the location of the desktop path\n",
    "desktop_path = os.path.join(os.path.expanduser('~'), 'Desktop')\n",
    "\n",
    "#Save the JSON object to a file on the desktop, with indentation\n",
    "with open('test.txt', 'w') as f:\n",
    "    json.dump(json_data, f, indent=4)\n",
    "\n",
    " \n"
   ]
  },
  {
   "cell_type": "code",
   "execution_count": 10,
   "metadata": {},
   "outputs": [
    {
     "data": {
      "text/plain": [
       "[{'id': 209,\n",
       "  'full_name': 'Dell Curry',\n",
       "  'first_name': 'Dell',\n",
       "  'last_name': 'Curry',\n",
       "  'is_active': False},\n",
       " {'id': 2201,\n",
       "  'full_name': 'Eddy Curry',\n",
       "  'first_name': 'Eddy',\n",
       "  'last_name': 'Curry',\n",
       "  'is_active': False},\n",
       " {'id': 201191,\n",
       "  'full_name': 'JamesOn Curry',\n",
       "  'first_name': 'JamesOn',\n",
       "  'last_name': 'Curry',\n",
       "  'is_active': False},\n",
       " {'id': 688,\n",
       "  'full_name': 'Michael Curry',\n",
       "  'first_name': 'Michael',\n",
       "  'last_name': 'Curry',\n",
       "  'is_active': False},\n",
       " {'id': 203552,\n",
       "  'full_name': 'Seth Curry',\n",
       "  'first_name': 'Seth',\n",
       "  'last_name': 'Curry',\n",
       "  'is_active': True},\n",
       " {'id': 201939,\n",
       "  'full_name': 'Stephen Curry',\n",
       "  'first_name': 'Stephen',\n",
       "  'last_name': 'Curry',\n",
       "  'is_active': True},\n",
       " {'id': 78102,\n",
       "  'full_name': 'Carey Scurry',\n",
       "  'first_name': 'Carey',\n",
       "  'last_name': 'Scurry',\n",
       "  'is_active': False}]"
      ]
     },
     "execution_count": 10,
     "metadata": {},
     "output_type": "execute_result"
    }
   ],
   "source": [
    "from nba_api.stats.static import players\n",
    "# Find players by full name.\n",
    "players.find_players_by_full_name('Curry')"
   ]
  },
  {
   "cell_type": "code",
   "execution_count": 21,
   "metadata": {},
   "outputs": [],
   "source": [
    "import json\n",
    "\n",
    "data = {'name': 'John', 'age': 30, 'city': 'New York'}\n",
    "\n",
    "with open('data.json', 'w') as f:\n",
    "    json.dump(data, f, indent=4)\n"
   ]
  },
  {
   "cell_type": "code",
   "execution_count": null,
   "metadata": {},
   "outputs": [],
   "source": [
    "from "
   ]
  }
 ],
 "metadata": {
  "kernelspec": {
   "display_name": "Python 3",
   "language": "python",
   "name": "python3"
  },
  "language_info": {
   "codemirror_mode": {
    "name": "ipython",
    "version": 3
   },
   "file_extension": ".py",
   "mimetype": "text/x-python",
   "name": "python",
   "nbconvert_exporter": "python",
   "pygments_lexer": "ipython3",
   "version": "3.8.13"
  },
  "orig_nbformat": 4,
  "vscode": {
   "interpreter": {
    "hash": "9ac03a0a6051494cc606d484d27d20fce22fb7b4d169f583271e11d5ba46a56e"
   }
  }
 },
 "nbformat": 4,
 "nbformat_minor": 2
}
