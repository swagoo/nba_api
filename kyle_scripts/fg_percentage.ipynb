{
 "cells": [
  {
   "cell_type": "code",
   "execution_count": 25,
   "metadata": {},
   "outputs": [
    {
     "name": "stdout",
     "output_type": "stream",
     "text": [
      "['PLAYER_ID', 'LEAGUE_ID', 'Team_ID', 'GP', 'GS', 'MIN', 'FGM', 'FGA', 'FG_PCT', 'FG3M', 'FG3A', 'FG3_PCT', 'FTM', 'FTA', 'FT_PCT', 'OREB', 'DREB', 'REB', 'AST', 'STL', 'BLK', 'TOV', 'PF', 'PTS']\n"
     ]
    }
   ],
   "source": [
    "from nba_api.stats.endpoints import playercareerstats\n",
    "import json\n",
    "player = playercareerstats.PlayerCareerStats(player_id='201939')\n",
    "x = player.career_totals_regular_season.get_json()\n",
    "json = json.loads(x)\n",
    "print(json[\"headers\"])\n",
    "\n"
   ]
  },
  {
   "cell_type": "code",
   "execution_count": 10,
   "metadata": {},
   "outputs": [
    {
     "data": {
      "text/plain": [
       "[{'id': 209,\n",
       "  'full_name': 'Dell Curry',\n",
       "  'first_name': 'Dell',\n",
       "  'last_name': 'Curry',\n",
       "  'is_active': False},\n",
       " {'id': 2201,\n",
       "  'full_name': 'Eddy Curry',\n",
       "  'first_name': 'Eddy',\n",
       "  'last_name': 'Curry',\n",
       "  'is_active': False},\n",
       " {'id': 201191,\n",
       "  'full_name': 'JamesOn Curry',\n",
       "  'first_name': 'JamesOn',\n",
       "  'last_name': 'Curry',\n",
       "  'is_active': False},\n",
       " {'id': 688,\n",
       "  'full_name': 'Michael Curry',\n",
       "  'first_name': 'Michael',\n",
       "  'last_name': 'Curry',\n",
       "  'is_active': False},\n",
       " {'id': 203552,\n",
       "  'full_name': 'Seth Curry',\n",
       "  'first_name': 'Seth',\n",
       "  'last_name': 'Curry',\n",
       "  'is_active': True},\n",
       " {'id': 201939,\n",
       "  'full_name': 'Stephen Curry',\n",
       "  'first_name': 'Stephen',\n",
       "  'last_name': 'Curry',\n",
       "  'is_active': True},\n",
       " {'id': 78102,\n",
       "  'full_name': 'Carey Scurry',\n",
       "  'first_name': 'Carey',\n",
       "  'last_name': 'Scurry',\n",
       "  'is_active': False}]"
      ]
     },
     "execution_count": 10,
     "metadata": {},
     "output_type": "execute_result"
    }
   ],
   "source": [
    "from nba_api.stats.static import players\n",
    "# Find players by full name.\n",
    "players.find_players_by_full_name('Curry')"
   ]
  },
  {
   "cell_type": "code",
   "execution_count": null,
   "metadata": {},
   "outputs": [],
   "source": []
  }
 ],
 "metadata": {
  "kernelspec": {
   "display_name": "Python 3",
   "language": "python",
   "name": "python3"
  },
  "language_info": {
   "codemirror_mode": {
    "name": "ipython",
    "version": 3
   },
   "file_extension": ".py",
   "mimetype": "text/x-python",
   "name": "python",
   "nbconvert_exporter": "python",
   "pygments_lexer": "ipython3",
   "version": "3.8.13"
  },
  "orig_nbformat": 4,
  "vscode": {
   "interpreter": {
    "hash": "9ac03a0a6051494cc606d484d27d20fce22fb7b4d169f583271e11d5ba46a56e"
   }
  }
 },
 "nbformat": 4,
 "nbformat_minor": 2
}
